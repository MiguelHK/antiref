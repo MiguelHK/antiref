{
 "cells": [
  {
   "attachments": {},
   "cell_type": "markdown",
   "id": "56f5595f-c01b-48b3-94de-fbebae941993",
   "metadata": {},
   "source": [
    "# AntiRef: data download\n",
    "\n",
    "The download scripts used in the current version of AntiRef (`v2022.12.14`) were retrieved from the [Observed Antibody Space](http://opig.stats.ox.ac.uk/webapps/oas/) on 12/14/22 and can be found in the `scripts/` directory. The scripts contain a single `wget` command per line, which downloads a single dataset from OAS.\n",
    "\n",
    "\n",
    "### download scripts\n",
    "dataset filtering criteria (used to build the download script):\n",
    "\n",
    "| field | value |\n",
    "| --- | --- |\n",
    "| Chain | `'Heavy'` or `'Light'` |\n",
    "| Disease | `'None'` |\n",
    "| BSource | `'PBMC'` |\n",
    "| Species | `'Human'` |\n",
    "| Vaccine | `'None'` |\n",
    "\n",
    "\n",
    "All other fields were left as default (`'*'`), which performs no additional filtering\n",
    "\n",
    "__NOTE:__ *the `'PBMC'` filter excludes all of the sequences in the [Briney et al., 2019](https://www.nature.com/articles/s41586-019-0879-y) paper, which have a bsource of `'LeukoPak'` in the OAS database (and is the only set of samples with that particular bsource). That's not a problem for this data download, however, since we're going to filter only full-length VDJ regions. The Briney et al., 2019 paper used BIOMED-2 primers, so all of those sequences are FR1 truncated and would have been excluded post-download.*\n",
    "\n",
    "### results\n",
    "\n",
    "The `'Heavy'` chain search yielded:\n",
    "* **631,028,215** sequences (unique within the individual dataset)\n",
    "* datasets from **31** different studies \n",
    "* a total of **2,931** datasets \n",
    "\n",
    "The `'Light'` chain search yielded:\n",
    "* **272,491,529** sequences (unique within the individual dataset)\n",
    "* datasets from **13** different studies \n",
    "* a total of **437** datasets"
   ]
  },
  {
   "cell_type": "code",
   "execution_count": null,
   "id": "d2d8c450",
   "metadata": {},
   "outputs": [],
   "source": [
    "# install dependencies\n",
    "%pip install tqdm abutils"
   ]
  },
  {
   "cell_type": "code",
   "execution_count": null,
   "id": "8007806d",
   "metadata": {},
   "outputs": [],
   "source": [
    "import os\n",
    "import sys\n",
    "import subprocess as sp \n",
    "from typing import Optional\n",
    "\n",
    "from tqdm.notebook import tqdm\n",
    "\n",
    "import abutils"
   ]
  },
  {
   "cell_type": "code",
   "execution_count": 35,
   "id": "fe875dd9-d3be-430f-bfcb-8571a4214a4c",
   "metadata": {},
   "outputs": [],
   "source": [
    "def oas_downloader(\n",
    "    oas_sh_file: str, \n",
    "    raw_download_dir: str, \n",
    "    decompressed_dir: Optional[str] = None, \n",
    "    decompress: Optional[bool] = True\n",
    "):\n",
    "    '''\n",
    "    Downloads annotated antibody sequence data from the `Observed Antibody Space`_ repository.\n",
    "    \n",
    "    Parameters\n",
    "    ----------\n",
    "    oas_sh_file : str\n",
    "        Path to a OAS-generated data download script. Must be a text file with a single \n",
    "        ``wget`` command per line.\n",
    "    \n",
    "    raw_download_dir : str\n",
    "        Path to a directory into which compressed (`'.gz'`) data files will be \n",
    "        downloaded. If the directory does not exist, it will be created.\n",
    "        \n",
    "    decompressed_dir : str, default=None\n",
    "        Path to a directory into which data files will be decompressed. If `decompress` is\n",
    "        ``True`` and `decompressed_dir` is not provided, files will be downloaded into \n",
    "        a subdirectory of `raw_download_dir`. Default is ``None``.\n",
    "        \n",
    "    decompress : bool, default=True\n",
    "        If ``True``, CSV files will be decompressed after downloading. Default is ``True``.\n",
    "    \n",
    "    .. _Observed Antibody Space:\n",
    "        http://opig.stats.ox.ac.uk/webapps/oas/\n",
    "    '''\n",
    "    # directory setup\n",
    "    raw_download_dir = os.path.abspath(raw_download_dir)\n",
    "    if not os.path.isdir(raw_download_dir):\n",
    "        abutils.io.make_dir(raw_download_dir)\n",
    "    if decompress:\n",
    "        if decompressed_dir is None:\n",
    "            decompressed_dir = os.path.join(raw_download_dir, 'decompressed')\n",
    "        decompressed_dir = os.path.abspath(decompressed_dir)\n",
    "        if not os.path.isdir(decompressed_dir):\n",
    "            abutils.io.make_dir(decompressed_dir)\n",
    "    # do the download\n",
    "    with open(oas_sh_file) as oas_file:\n",
    "        lines = [l for line in oas_file.readlines() if (l := line.strip())]\n",
    "        pbar = tqdm(lines)\n",
    "        for line in pbar:\n",
    "            if sline := line.strip():\n",
    "                _, url = sline.split()\n",
    "                compressed_fname = os.path.basename(url)\n",
    "                compressed_file = os.path.join(raw_download_dir, compressed_fname)\n",
    "                pbar.set_description(f\"{compressed_fname} - downloading\")\n",
    "                wget_cmd = f\"wget -O {compressed_file} {url}\"\n",
    "                p = sp.Popen(wget_cmd, shell=True, stdout=sp.PIPE, stderr=sp.PIPE)\n",
    "                stdout, stderr = p.communicate()\n",
    "                # decompress if desired\n",
    "                if decompress:\n",
    "                    pbar.set_description(f\"{compressed_fname} - decompressing\")\n",
    "                    decompressed_fname = compressed_fname.rstrip('.gz')\n",
    "                    decompressed_file = os.path.join(decompressed_dir, decompressed_fname)\n",
    "                    gunzip_cmd = f\"gunzip -kc {compressed_file} > {decompressed_file}\"\n",
    "                    p = sp.Popen(gunzip_cmd, shell=True, stdout=sp.PIPE, stderr=sp.PIPE)\n",
    "                    stdout, stderr = p.communicate()"
   ]
  },
  {
   "attachments": {},
   "cell_type": "markdown",
   "id": "75fe11b3-18cf-4a60-852c-aa8b283349fb",
   "metadata": {},
   "source": [
    "### heavy chains\n",
    "\n",
    "The download process takes quite a while (at least a few hours, potentially much longer depending on your internet connection) and produces a large amount of data:  \n",
    "\n",
    "* compressed: **296GB**\n",
    "* decompressed: **2.7TB**\n",
    "\n",
    "Make sure the current directory has sufficient storage, or modify the `raw_download_dir` and `decompressed_dir` arguments to point to a location with sufficient storage."
   ]
  },
  {
   "cell_type": "code",
   "execution_count": 39,
   "id": "da18b385-c0d7-4bff-bd7a-8a0bf6a5c2aa",
   "metadata": {},
   "outputs": [],
   "source": [
    "oas_downloader(\n",
    "    oas_sh_file='./download_heavy.txt', \n",
    "    raw_download_dir='./data/raw/gz/heavy', \n",
    "    decompressed_dir='./data/raw/csv/heavy', \n",
    "    decompress=True,\n",
    "    )"
   ]
  },
  {
   "attachments": {},
   "cell_type": "markdown",
   "id": "42451746-0d8a-4f5c-9709-b913fa842f6c",
   "metadata": {},
   "source": [
    "### light chains\n",
    "\n",
    "The download process takes quite a while and produces a large amount of data:  \n",
    "\n",
    "* compressed: **96GB**\n",
    "* decompressed: **1.1TB**\n",
    "\n",
    "Make sure the current directory has sufficient storage, or modify the `raw_download_dir` and `decompressed_dir` arguments to point to a location with sufficient storage."
   ]
  },
  {
   "cell_type": "code",
   "execution_count": null,
   "id": "af2ad292-7c15-4614-a151-f01adf379755",
   "metadata": {},
   "outputs": [],
   "source": [
    "oas_downloader(\n",
    "    oas_sh_file='./download_light.txt', \n",
    "    raw_download_dir='./data/raw/gz/light', \n",
    "    decompressed_dir='./data/raw/csv/light', \n",
    "    decompress=True,\n",
    "    )"
   ]
  },
  {
   "cell_type": "code",
   "execution_count": null,
   "id": "d9a75a5a",
   "metadata": {},
   "outputs": [],
   "source": []
  }
 ],
 "metadata": {
  "kernelspec": {
   "display_name": "Python 3",
   "language": "python",
   "name": "python3"
  },
  "language_info": {
   "codemirror_mode": {
    "name": "ipython",
    "version": 3
   },
   "file_extension": ".py",
   "mimetype": "text/x-python",
   "name": "python",
   "nbconvert_exporter": "python",
   "pygments_lexer": "ipython3",
   "version": "3.10.8 (main, Oct 13 2022, 09:48:40) [Clang 14.0.0 (clang-1400.0.29.102)]"
  },
  "vscode": {
   "interpreter": {
    "hash": "b0fa6594d8f4cbf19f97940f81e996739fb7646882a419484c72d19e05852a7e"
   }
  }
 },
 "nbformat": 4,
 "nbformat_minor": 5
}
