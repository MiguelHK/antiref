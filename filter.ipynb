{
 "cells": [
  {
   "attachments": {},
   "cell_type": "markdown",
   "id": "a2a820fa-3310-468c-b7d0-839141a7879a",
   "metadata": {},
   "source": [
    "# AntiRef: sequence filtering\n",
    "\n",
    "Sequences from the [Observed Antibody Space](http://opig.stats.ox.ac.uk/webapps/oas/) repository are filtered to retain only sequences that are:\n",
    "\n",
    "| criteria | filter |\n",
    "| :- | :- |\n",
    "| productive | `'productive' == 'T'` |\n",
    "| full length | `'complete_vdj' == 'T'` |\n",
    "| no frameshift V-gene indels | `'v_frameshift' == 'F'` |\n",
    "| in-frame | `'vj_in_frame' == 'T'` | \n",
    "| no stop codons | `'stop_codon' == 'F'` |\n",
    "| no ambiguous amino acids | `'X' not in 'sequence_aa'` |\n",
    "| not missing a conserved Cysteine | `'Missing Conserved Cysteine' not in 'ANARCI_status'` |\n",
    "\n",
    "\n",
    "Also during the filtering process, a random ID is created for each sequence (stored in the `'sequence_id'` field) and the full AA sequence is added to the annotation (stored in the `'sequence_aa'` field). \n",
    "\n",
    "Filtered data is saved in both CSV (containing all annotations) and FASTA formats. Optionally, but occuring by default using the code below, a CSV file containing metadata for each processed file will created. This metadata file contains all metadata included in the downloaded OAS file as well as information on the number of sequences passing our filtering process. \n",
    "\n",
    "Filtering retains a total of:\n",
    "\n",
    "* **260,373,862** heavy chains\n",
    "* **190,684,852** light chains\n",
    "* **451,058,704** total antibody sequences\n",
    "\n"
   ]
  },
  {
   "cell_type": "code",
   "execution_count": null,
   "id": "11d51556",
   "metadata": {},
   "outputs": [],
   "source": [
    "# install dependencies\n",
    "%pip install pandas tqdm biopython abutils"
   ]
  },
  {
   "cell_type": "code",
   "execution_count": null,
   "id": "5b6b037f",
   "metadata": {},
   "outputs": [],
   "source": [
    "import warnings\n",
    "warnings.simplefilter('ignore')\n",
    "\n",
    "from collections import Counter\n",
    "import json\n",
    "import os\n",
    "import subprocess as sp\n",
    "from typing import Optional\n",
    "import uuid\n",
    "\n",
    "import pandas as pd\n",
    "\n",
    "from tqdm.notebook import tqdm\n",
    "\n",
    "from Bio import SeqIO\n",
    "\n",
    "import abutils"
   ]
  },
  {
   "cell_type": "code",
   "execution_count": 3,
   "id": "68a90cd5-6388-4f6b-ad39-c10d093085bf",
   "metadata": {},
   "outputs": [],
   "source": [
    "def oas_filter(\n",
    "    input_dir: str, \n",
    "    csv_dir: str, \n",
    "    fasta_dir: str, \n",
    "    limit: Optional[int] = None,\n",
    "    skip: int = 0,\n",
    "    metadata_file: Optional[str] = None\n",
    ") -> pd.DataFrame:\n",
    "    '''\n",
    "    Filters sequence data downloaded from the `Observed Antibody Space`_ \n",
    "    repository to retain only full-length, productive sequences.\n",
    "    \n",
    "    Parameters\n",
    "    ----------\n",
    "    input_dir : str\n",
    "        Path to a directory containing one or more CSV-formatted input files. Files must either\n",
    "        be downloaded from OAS or use the same schema.\n",
    "    \n",
    "    [csv|fasta]_dir : str\n",
    "        Path to a directory into which filtered CSV or FASTA files will be written. If the directory\n",
    "        does not exist, it will be created.\n",
    "        \n",
    "    limit : int, default=``None``\n",
    "        Limit the number of files to be processed. Must be an integer or coercable to an integer.\n",
    "        Default is `None`, which does not limit the number of files processed.\n",
    "    \n",
    "    skip : int, default=0\n",
    "        Skips the first `skip` files in `input_dir`. Must be an integer or coercable to an integer.\n",
    "        Files are processed in alphabetical order. Default is `0`, which does not skip any lines.\n",
    "        \n",
    "    metadata_file : str, default=``None``\n",
    "        Path to a file into which the metadata (in CSV format) will be written. If not provided,\n",
    "        metadata is not written. In both cases, metadata is also returned as a ``DataFrame``.\n",
    "    \n",
    "    Returns\n",
    "    -------\n",
    "    metadata : ``pd.DataFrame``\n",
    "        A ``DataFrame`` containing the metadata from all processed files. Metadata is parsed\n",
    "        from the first line of the OAS CSV file.\n",
    "        \n",
    "        \n",
    "    .. _Observed Antibody Space:\n",
    "        http://opig.stats.ox.ac.uk/webapps/oas/\n",
    "    '''\n",
    "    # configure input/output directories\n",
    "    csv_dir = os.path.abspath(csv_dir)\n",
    "    fasta_dir = os.path.abspath(fasta_dir)\n",
    "    if not os.path.isdir(csv_dir):\n",
    "        abutils.io.make_dir(csv_dir)\n",
    "    if not os.path.isdir(fasta_dir):\n",
    "        abutils.io.make_dir(fasta_dir)\n",
    "    input_dir = os.path.abspath(input_dir)\n",
    "    input_files = abutils.io.list_files(input_dir, extension='csv')\n",
    "    if limit is not None:\n",
    "        limit = int(limit)\n",
    "        skip = int(skip)\n",
    "        input_files = input_files[skip:skip + limit]\n",
    "    \n",
    "    metadata = []\n",
    "    aa_cols = ['fwr1_aa', 'cdr1_aa', 'fwr2_aa', 'cdr2_aa', 'fwr3_aa', 'cdr3_aa', 'fwr4_aa']\n",
    "    leading_cols = ['sequence_id', 'sequence', 'sequence_aa']\n",
    "    \n",
    "    pbar = tqdm(input_files)\n",
    "    for ifile in pbar:\n",
    "        fname = '.'.join(os.path.basename(ifile).split('.')[:-1])\n",
    "        pbar.set_description(f\"{fname} - reading CSV\")\n",
    "        with open(ifile, 'r') as f:\n",
    "            # read metadata from the first line, rest of the file is CSV data\n",
    "            meta = json.loads(next(f).strip().replace('\"\"', '\"')[1:-1])\n",
    "            df = pd.read_csv(f)\n",
    "            pbar.set_description(f\"{fname} - filtering\")\n",
    "            # add sequence_id and sequence_aa fields\n",
    "            df['sequence_id'] = [uuid.uuid4() for _ in range(df.shape[0])]\n",
    "            df['sequence_aa'] = df[aa_cols].apply(lambda row: ''.join(row.values.astype(str)), \n",
    "                                                  axis=1)\n",
    "            # filter the data for productive, full-length sequences \n",
    "            filtered = df[(df['complete_vdj'] == 'T') \n",
    "                          & (df['stop_codon'] == 'F')\n",
    "                          & (df['vj_in_frame'] == 'T')\n",
    "                          & (df['v_frameshift'] == 'F')\n",
    "                          & (df['productive'] == 'T')\n",
    "                          & ~(df['sequence_aa'].str.contains('X')\n",
    "                          & ~(df['ANARCI_status'].str.contains('Missing Conserved Cysteine')))\n",
    "                         ]\n",
    "            meta['Filtered sequences'] = filtered.shape[0]\n",
    "            if filtered.shape[0] > 0:\n",
    "                meta['Unique filtered sequences'] = len(filtered['sequence_aa'].unique())\n",
    "                # write filtered CSV \n",
    "                trailing_cols = [c for c in filtered.columns.values if c not in leading_cols]\n",
    "                filtered = filtered[leading_cols + trailing_cols]\n",
    "                filtered.to_csv(os.path.join(csv_dir, fname + '.csv'), index=False)\n",
    "                # write filtered FASTA\n",
    "                ids = filtered['sequence_id']\n",
    "                seqs = filtered['sequence_aa']\n",
    "                fastas = [f\">{i}\\n{s}\" for i, s in zip(ids, seqs)]\n",
    "                with open(os.path.join(fasta_dir, fname + '.fasta'), 'w') as f:\n",
    "                    f.write('\\n'.join(fastas))\n",
    "            else:\n",
    "                meta['Unique filtered sequences'] = 0\n",
    "        metadata.append(meta)\n",
    "    meta_df = pd.DataFrame(metadata)\n",
    "    if metadata_file is not None:\n",
    "        meta_df.to_csv(metadata_file)\n",
    "    return meta_df\n"
   ]
  },
  {
   "attachments": {},
   "cell_type": "markdown",
   "id": "73f9d0a6-ac4e-4aa0-b106-775c58b9b5dd",
   "metadata": {},
   "source": [
    "### heavy chains\n",
    "\n",
    "First, we filter all of the downloaded heavy chain sequences:"
   ]
  },
  {
   "cell_type": "code",
   "execution_count": 10,
   "id": "f48692a6-0321-4146-b574-8e2c2d910669",
   "metadata": {},
   "outputs": [],
   "source": [
    "heavy_metadata = oas_filter(\n",
    "    input_dir='./data/raw/csv/heavy/', \n",
    "    csv_dir='./data/filtered/csv/heavy/',\n",
    "    fasta_dir='./data/filtered/fasta/heavy/'\n",
    "    metadata_file='./data/filtered/metadata_heavy.csv'\n",
    "    )"
   ]
  },
  {
   "attachments": {},
   "cell_type": "markdown",
   "id": "debd2d10",
   "metadata": {},
   "source": [
    "And create a single FASTA file containing all filtered heavy chain sequences:"
   ]
  },
  {
   "cell_type": "code",
   "execution_count": null,
   "id": "c4d9a154",
   "metadata": {},
   "outputs": [],
   "source": [
    "pooled_heavy_file = './data/filtered/fasta/heavy.fasta'\n",
    "\n",
    "pool_cmd = f\"cat ./data/filtered/fasta/heavy/*.fasta > {pooled_heavy_file}\"\n",
    "p = sp.Popen(pool_cmd, shell=True, stdout=sp.PIPE, stderr=sp.PIPE)\n",
    "stdout, stderr = p.communicate()"
   ]
  },
  {
   "attachments": {},
   "cell_type": "markdown",
   "id": "0465a7b0-e432-4a68-95d3-0a02d6ecec67",
   "metadata": {},
   "source": [
    "### light chains\n",
    "\n",
    "Next, we filter all of the light chain sequences:"
   ]
  },
  {
   "cell_type": "code",
   "execution_count": null,
   "id": "5a99ec2f-e9e8-4c61-a2b0-5d4dec05c0fc",
   "metadata": {},
   "outputs": [],
   "source": [
    "light_metadata = oas_filter(\n",
    "    input_dir='./data/raw/csv/light/', \n",
    "    csv_dir='./data/filtered/csv/light/',\n",
    "    fasta_dir='./data/filtered/fasta/light/'\n",
    "    metadata_file='./data/filtered/metadata_light.csv'\n",
    "    )"
   ]
  },
  {
   "attachments": {},
   "cell_type": "markdown",
   "id": "51c95457-f723-4d48-9bda-3b465fc73c39",
   "metadata": {},
   "source": [
    "And create a single FASTA file containing all filtered light chain sequences:"
   ]
  },
  {
   "cell_type": "code",
   "execution_count": null,
   "id": "a6e01027-542b-46f5-93a5-4d32ff351677",
   "metadata": {},
   "outputs": [],
   "source": [
    "pooled_light_file = './data/filtered/fasta/light.fasta'\n",
    "\n",
    "pool_cmd = f\"cat ./data/filtered/fasta/light/*.fasta > {pooled_light_file}\"\n",
    "p = sp.Popen(pool_cmd, shell=True, stdout=sp.PIPE, stderr=sp.PIPE)\n",
    "stdout, stderr = p.communicate()"
   ]
  },
  {
   "attachments": {},
   "cell_type": "markdown",
   "id": "ee4ebcdb-1c3b-4fa4-91a3-a3fb9a529b64",
   "metadata": {},
   "source": [
    "### combine all sequences into a single FASTA file"
   ]
  },
  {
   "cell_type": "code",
   "execution_count": null,
   "id": "5a47deac",
   "metadata": {},
   "outputs": [],
   "source": [
    "pooled_fasta_file = './data/filtered/fasta/all.fasta'\n",
    "\n",
    "pool_cmd = f\"cat ./data/filtered/fasta/heavy.fasta ./data/filtered/fasta/light.fasta > {pooled_fasta_file}\"\n",
    "p = sp.Popen(pool_cmd, shell=True, stdout=sp.PIPE, stderr=sp.PIPE)\n",
    "stdout, stderr = p.communicate()"
   ]
  },
  {
   "cell_type": "code",
   "execution_count": null,
   "id": "8253cce7",
   "metadata": {},
   "outputs": [],
   "source": []
  }
 ],
 "metadata": {
  "kernelspec": {
   "display_name": "Python 3",
   "language": "python",
   "name": "python3"
  },
  "language_info": {
   "codemirror_mode": {
    "name": "ipython",
    "version": 3
   },
   "file_extension": ".py",
   "mimetype": "text/x-python",
   "name": "python",
   "nbconvert_exporter": "python",
   "pygments_lexer": "ipython3",
   "version": "3.10.8 (main, Oct 13 2022, 09:48:40) [Clang 14.0.0 (clang-1400.0.29.102)]"
  },
  "vscode": {
   "interpreter": {
    "hash": "b0fa6594d8f4cbf19f97940f81e996739fb7646882a419484c72d19e05852a7e"
   }
  }
 },
 "nbformat": 4,
 "nbformat_minor": 5
}
